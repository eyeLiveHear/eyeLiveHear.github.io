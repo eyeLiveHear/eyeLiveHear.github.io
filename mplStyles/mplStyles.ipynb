{
 "cells": [
  {
   "cell_type": "code",
   "execution_count": 5,
   "metadata": {},
   "outputs": [],
   "source": [
    "import numpy as np\n",
    "import matplotlib as mpl\n",
    "mpl.use(\"Agg\")\n",
    "import matplotlib.pyplot as plt\n",
    "import gc\n"
   ]
  },
  {
   "cell_type": "code",
   "execution_count": 2,
   "metadata": {},
   "outputs": [],
   "source": [
    "x = np.linspace(-100,100,1000)\n",
    "y_sq = x**2\n",
    "y_cube = x**3"
   ]
  },
  {
   "cell_type": "code",
   "execution_count": 3,
   "metadata": {},
   "outputs": [],
   "source": [
    "availableStyles = plt.style.available"
   ]
  },
  {
   "cell_type": "code",
   "execution_count": 12,
   "metadata": {},
   "outputs": [],
   "source": [
    "for style in availableStyles:\n",
    "    ## Specify style for mpl\n",
    "    plt.style.use(style)\n",
    "    \n",
    "    ## Initialize figure and axes\n",
    "    fig, ax = plt.subplots(1, 2, figsize=(25, 7))\n",
    "    \n",
    "    ## Figure title\n",
    "    fig.suptitle(\"Style Name: {}\".format(style), fontsize=16, family=\"sans-serif\", fontweight=700, \\\n",
    "                        bbox={'facecolor': 'grey', 'alpha': 0.4, 'pad': 10})\n",
    "    \n",
    "    ## Vanilla Plot\n",
    "    ax[0].plot(x, y_sq)\n",
    "    ax[0].set_xlabel(\"X\", fontsize=14, family=\"sans-serif\", fontweight=600)\n",
    "    ax[0].set_ylabel(\"$Y^2$\", fontsize=14, family=\"sans-serif\", fontweight=600)\n",
    "    ax[1].plot(x, y_cube)\n",
    "    ax[1].set_xlabel(\"X\", fontsize=14, family=\"sans-serif\", fontweight=600)\n",
    "    ax[1].set_ylabel(\"$Y^3$\", fontsize=14, family=\"sans-serif\", fontweight=600)\n",
    "    \n",
    "    ## Export Images\n",
    "    plt.savefig(\"./devImages/{}.png\".format(style), bbox_inches='tight')\n",
    "    ## Reset mpl style to default\n",
    "    mpl.rcParams.update(mpl.rcParamsDefault)\n",
    "    ## Remove fig and ax from mem\n",
    "    plt.clf()\n",
    "    plt.cla()\n",
    "    plt.close(\"all\")\n",
    "    gc.collect()"
   ]
  }
 ],
 "metadata": {
  "hide_input": false,
  "kernelspec": {
   "display_name": "Python 3",
   "language": "python",
   "name": "python3"
  },
  "language_info": {
   "codemirror_mode": {
    "name": "ipython",
    "version": 3
   },
   "file_extension": ".py",
   "mimetype": "text/x-python",
   "name": "python",
   "nbconvert_exporter": "python",
   "pygments_lexer": "ipython3",
   "version": "3.6.5"
  },
  "toc": {
   "base_numbering": 1,
   "nav_menu": {},
   "number_sections": true,
   "sideBar": true,
   "skip_h1_title": false,
   "title_cell": "Table of Contents",
   "title_sidebar": "Contents",
   "toc_cell": false,
   "toc_position": {},
   "toc_section_display": true,
   "toc_window_display": false
  },
  "varInspector": {
   "cols": {
    "lenName": 16,
    "lenType": 16,
    "lenVar": 40
   },
   "kernels_config": {
    "python": {
     "delete_cmd_postfix": "",
     "delete_cmd_prefix": "del ",
     "library": "var_list.py",
     "varRefreshCmd": "print(var_dic_list())"
    },
    "r": {
     "delete_cmd_postfix": ") ",
     "delete_cmd_prefix": "rm(",
     "library": "var_list.r",
     "varRefreshCmd": "cat(var_dic_list()) "
    }
   },
   "types_to_exclude": [
    "module",
    "function",
    "builtin_function_or_method",
    "instance",
    "_Feature"
   ],
   "window_display": false
  }
 },
 "nbformat": 4,
 "nbformat_minor": 2
}
